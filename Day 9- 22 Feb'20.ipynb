{
 "cells": [
  {
   "cell_type": "code",
   "execution_count": null,
   "metadata": {},
   "outputs": [],
   "source": [
    "def sq_num(n): return n**2"
   ]
  },
  {
   "cell_type": "code",
   "execution_count": null,
   "metadata": {},
   "outputs": [],
   "source": [
    "sq_num(3)"
   ]
  },
  {
   "cell_type": "code",
   "execution_count": null,
   "metadata": {},
   "outputs": [],
   "source": [
    "sq_num_lambda= lambda n: n**2"
   ]
  },
  {
   "cell_type": "code",
   "execution_count": null,
   "metadata": {},
   "outputs": [],
   "source": [
    "sq_num_lambda(3)"
   ]
  },
  {
   "cell_type": "code",
   "execution_count": null,
   "metadata": {},
   "outputs": [],
   "source": [
    "even_num_lambda= lambda n: n%2==0"
   ]
  },
  {
   "cell_type": "code",
   "execution_count": null,
   "metadata": {},
   "outputs": [],
   "source": [
    "even_num_lambda(2)"
   ]
  },
  {
   "cell_type": "code",
   "execution_count": null,
   "metadata": {},
   "outputs": [],
   "source": [
    "even_num_lambda(5)"
   ]
  },
  {
   "cell_type": "code",
   "execution_count": null,
   "metadata": {},
   "outputs": [],
   "source": [
    "list1=[1,2,3,4,5,6,7,8,9,10]\n",
    "even_num_lambda= lambda n: n%2==0\n",
    "list(filter(even_num_lambda, list1))"
   ]
  },
  {
   "cell_type": "code",
   "execution_count": null,
   "metadata": {},
   "outputs": [],
   "source": [
    "s1=\"India\"\n",
    "s2=\"I\"\n",
    "for i in range(len(s1)):\n",
    "    print(s1.index(s1[i])) "
   ]
  },
  {
   "cell_type": "code",
   "execution_count": null,
   "metadata": {},
   "outputs": [],
   "source": [
    "s1=\"India\"\n",
    "s1=[0]"
   ]
  },
  {
   "cell_type": "code",
   "execution_count": null,
   "metadata": {},
   "outputs": [],
   "source": [
    "s1=\"India\"\n",
    "s2=\"I\"\n",
    "\n",
    "if s1[0]==s2[0]:\n",
    "    print (True) \n",
    "else:\n",
    "    \n",
    "    print (False)"
   ]
  },
  {
   "cell_type": "code",
   "execution_count": null,
   "metadata": {},
   "outputs": [],
   "source": [
    "def starts_with(str1,ch1):\n",
    "    return str1[0].lower()==ch1.lower()"
   ]
  },
  {
   "cell_type": "code",
   "execution_count": null,
   "metadata": {},
   "outputs": [],
   "source": [
    "starts_with(\"India\", \"I\")"
   ]
  },
  {
   "cell_type": "code",
   "execution_count": null,
   "metadata": {},
   "outputs": [],
   "source": [
    "starts_with_lambda= lambda str1, ch1: str1[0].lower()==ch1.lower()"
   ]
  },
  {
   "cell_type": "code",
   "execution_count": null,
   "metadata": {},
   "outputs": [],
   "source": [
    "starts_with_lambda(\"India\",\"i\")"
   ]
  },
  {
   "cell_type": "code",
   "execution_count": null,
   "metadata": {},
   "outputs": [],
   "source": [
    "L1=[1,3,5,10,12,17]"
   ]
  },
  {
   "cell_type": "code",
   "execution_count": null,
   "metadata": {},
   "outputs": [],
   "source": [
    "#Write a program to filter a given list whether the values in the list are having length of 6 using lambda."
   ]
  },
  {
   "cell_type": "code",
   "execution_count": null,
   "metadata": {},
   "outputs": [],
   "source": [
    "L2=[\"Ten\", \"Eleven\", \"Twelve\", \"Thirteen\", \"Fourteen\"]\n",
    "\n",
    "def length_is(L2):\n",
    "    return len(L2)==6\n",
    "\n",
    "\n"
   ]
  },
  {
   "cell_type": "code",
   "execution_count": null,
   "metadata": {},
   "outputs": [],
   "source": [
    "length_is(\"Ten\")\n"
   ]
  },
  {
   "cell_type": "code",
   "execution_count": null,
   "metadata": {},
   "outputs": [],
   "source": [
    "len_6=lambda str: len(str)==6\n",
    "L2=[\"Ten\", \"Eleven\", \"Twelve\", \"Thirteen\", \"Fourteen\"]\n",
    "list(filter(len_6, L2))"
   ]
  },
  {
   "cell_type": "markdown",
   "metadata": {},
   "source": [
    "# Exception Handling:"
   ]
  },
  {
   "cell_type": "code",
   "execution_count": null,
   "metadata": {},
   "outputs": [],
   "source": [
    "try:\n",
    "    print(10/0)\n",
    "except:\n",
    "    print(\"Please correct your input.\")"
   ]
  },
  {
   "cell_type": "code",
   "execution_count": null,
   "metadata": {},
   "outputs": [],
   "source": [
    "a=input(\"Enter No.: \")\n",
    "print(a/2)"
   ]
  },
  {
   "cell_type": "markdown",
   "metadata": {},
   "source": [
    "So we got TypeError"
   ]
  },
  {
   "cell_type": "code",
   "execution_count": null,
   "metadata": {},
   "outputs": [],
   "source": [
    "try:\n",
    "    a=input(\"Enter No.: \")\n",
    "    print(a/2)\n",
    "except TypeError:\n",
    "    print(\"Please convert your input.\")\n",
    "    \n",
    "    "
   ]
  },
  {
   "cell_type": "code",
   "execution_count": null,
   "metadata": {},
   "outputs": [],
   "source": [
    "try:\n",
    "    12/0\n",
    "    a=input(\"Enter No.: \")\n",
    "    print(a/2)\n",
    "except TypeError:\n",
    "    print(\"Please convert your input.\")"
   ]
  },
  {
   "cell_type": "markdown",
   "metadata": {},
   "source": [
    "So in the above solution, except specifically catered to the TypeError and not any other. "
   ]
  },
  {
   "cell_type": "code",
   "execution_count": null,
   "metadata": {},
   "outputs": [],
   "source": [
    "try:\n",
    "    12/0\n",
    "    a=input(\"Enter No.: \")\n",
    "    print(a/2)\n",
    "except TypeError:\n",
    "    print(\"Please convert your input.\")\n",
    "    \n",
    "finally:\n",
    "    print(\"I am so hungry rn.\")"
   ]
  },
  {
   "cell_type": "code",
   "execution_count": null,
   "metadata": {},
   "outputs": [],
   "source": [
    "try:\n",
    "    a=input(\"Enter No.: \")\n",
    "    a=int(a)\n",
    "    print(a/2)\n",
    "except TypeError:\n",
    "    print(\"Please convert your input.\")\n",
    "finally:\n",
    "    print(\"I am so hungry rn.\")\n",
    "    \n",
    "    "
   ]
  },
  {
   "cell_type": "markdown",
   "metadata": {},
   "source": [
    "Thus, we observe that the function: finally, would work no matter what (i.e. with or without error)"
   ]
  },
  {
   "cell_type": "code",
   "execution_count": null,
   "metadata": {},
   "outputs": [],
   "source": [
    "try:\n",
    "    n=input(\"Please enter your mobile number: \")\n",
    "    if n:\n",
    "        n=int(n)\n",
    "        print(n)\n",
    "    \n",
    "except:\n",
    "    print(\"You have not entered a valid mobile number, please enter again.\")\n",
    "    for n != int(n):\n",
    "        n=input(\"Please enter your mobile number: \")\n",
    "        print(n)\n",
    "        \n",
    "        \n",
    "    "
   ]
  },
  {
   "cell_type": "code",
   "execution_count": 2,
   "metadata": {},
   "outputs": [
    {
     "name": "stdout",
     "output_type": "stream",
     "text": [
      "Please enter mobile no.: hhhhh\n",
      "This is not a number.\n",
      "Please enter mobile no.: 7777\n",
      "Please enter a 10 digit number.\n",
      "Please enter mobile no.: 9552841700\n",
      "This is a correct number.\n"
     ]
    }
   ],
   "source": [
    "while (True): \n",
    "    try:\n",
    "        mobile_num=int(input(\"Please enter mobile no.: \"))\n",
    "    except: \n",
    "        print(\"This is not a number.\")\n",
    "    else:\n",
    "        if not(len(str(mobile_num))==10):\n",
    "            print(\"Please enter a 10 digit number.\")\n",
    "        else:\n",
    "            print(\"This is a correct number.\")\n",
    "            break "
   ]
  },
  {
   "cell_type": "code",
   "execution_count": null,
   "metadata": {},
   "outputs": [],
   "source": []
  }
 ],
 "metadata": {
  "kernelspec": {
   "display_name": "Python 3",
   "language": "python",
   "name": "python3"
  },
  "language_info": {
   "codemirror_mode": {
    "name": "ipython",
    "version": 3
   },
   "file_extension": ".py",
   "mimetype": "text/x-python",
   "name": "python",
   "nbconvert_exporter": "python",
   "pygments_lexer": "ipython3",
   "version": "3.7.4"
  }
 },
 "nbformat": 4,
 "nbformat_minor": 2
}
