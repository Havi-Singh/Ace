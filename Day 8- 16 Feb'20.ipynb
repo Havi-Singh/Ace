{
 "cells": [
  {
   "cell_type": "markdown",
   "metadata": {},
   "source": [
    "#Animal Crackers Problem \n",
    "#Write a funtion that takes a two word string and returns True if both the words start with the same letter."
   ]
  },
  {
   "cell_type": "code",
   "execution_count": 1,
   "metadata": {},
   "outputs": [],
   "source": [
    "class String_problems():\n",
    "    def __init__(self,str1):\n",
    "        self.str1=str1\n",
    "    def animal_crackers(self):\n",
    "        both_words_list=self.str1.split()\n",
    "        if not(len(both_words_list)==2):\n",
    "            print(\"Please provide a correct input.\")\n",
    "        else:\n",
    "            if (both_words_list[0][0].lower()==both_words_list[1][0].lower()):\n",
    "                return True \n",
    "            else:\n",
    "                return False"
   ]
  },
  {
   "cell_type": "code",
   "execution_count": 2,
   "metadata": {},
   "outputs": [
    {
     "data": {
      "text/plain": [
       "True"
      ]
     },
     "execution_count": 2,
     "metadata": {},
     "output_type": "execute_result"
    }
   ],
   "source": [
    "problem_2=String_problems(\"Cute cat\")\n",
    "problem_2.animal_crackers()"
   ]
  },
  {
   "cell_type": "code",
   "execution_count": 3,
   "metadata": {},
   "outputs": [
    {
     "data": {
      "text/plain": [
       "False"
      ]
     },
     "execution_count": 3,
     "metadata": {},
     "output_type": "execute_result"
    }
   ],
   "source": [
    "problem_2=String_problems(\"Cute dog\")\n",
    "problem_2.animal_crackers()"
   ]
  },
  {
   "cell_type": "code",
   "execution_count": 1,
   "metadata": {},
   "outputs": [],
   "source": [
    "class String_problems():\n",
    "    def __init__(self,str1):\n",
    "        self.str1=input(str1)\n",
    "    def animal_crackers(self):\n",
    "        both_words_list=self.str1.split()\n",
    "        if not(len(both_words_list)==2):\n",
    "            print(\"Please provide a correct input.\")\n",
    "        else:\n",
    "            if (both_words_list[0][0].lower()==both_words_list[1][0].lower()):\n",
    "                return True \n",
    "            else:\n",
    "                return False"
   ]
  },
  {
   "cell_type": "code",
   "execution_count": 3,
   "metadata": {},
   "outputs": [
    {
     "name": "stdout",
     "output_type": "stream",
     "text": [
      "Cracker Name: Cute cat\n"
     ]
    },
    {
     "data": {
      "text/plain": [
       "True"
      ]
     },
     "execution_count": 3,
     "metadata": {},
     "output_type": "execute_result"
    }
   ],
   "source": [
    "problem_2=String_problems(\"Cracker Name: \")\n",
    "problem_2.animal_crackers()"
   ]
  },
  {
   "cell_type": "code",
   "execution_count": 4,
   "metadata": {},
   "outputs": [
    {
     "name": "stdout",
     "output_type": "stream",
     "text": [
      "Cracker Name: hyper hen\n"
     ]
    },
    {
     "data": {
      "text/plain": [
       "True"
      ]
     },
     "execution_count": 4,
     "metadata": {},
     "output_type": "execute_result"
    }
   ],
   "source": [
    "problem_2=String_problems(\"Cracker Name: \")\n",
    "problem_2.animal_crackers()"
   ]
  },
  {
   "cell_type": "code",
   "execution_count": 5,
   "metadata": {},
   "outputs": [
    {
     "name": "stdout",
     "output_type": "stream",
     "text": [
      "Cracker Name: cute cat and dog\n",
      "Please provide a correct input.\n"
     ]
    }
   ],
   "source": [
    "problem_2=String_problems(\"Cracker Name: \")\n",
    "problem_2.animal_crackers()"
   ]
  },
  {
   "cell_type": "markdown",
   "metadata": {},
   "source": [
    "# Map Function : Uses another function and iterables."
   ]
  },
  {
   "cell_type": "code",
   "execution_count": 6,
   "metadata": {},
   "outputs": [],
   "source": [
    "def square_nums(num1):\n",
    "    return num1**2\n",
    "list1=[1,2,3,4,5,6]"
   ]
  },
  {
   "cell_type": "code",
   "execution_count": 7,
   "metadata": {},
   "outputs": [
    {
     "data": {
      "text/plain": [
       "[1, 4, 9, 16, 25, 36]"
      ]
     },
     "execution_count": 7,
     "metadata": {},
     "output_type": "execute_result"
    }
   ],
   "source": [
    "list(map(square_nums, list1))"
   ]
  },
  {
   "cell_type": "markdown",
   "metadata": {},
   "source": [
    "# Filter Function: on giving a condition, it doesn't provide a Boolean(true/false), rather a output."
   ]
  },
  {
   "cell_type": "code",
   "execution_count": 12,
   "metadata": {},
   "outputs": [],
   "source": [
    "def even_nums(num1):\n",
    "    return num1%2==0\n",
    "list2=[1,2,3,4,5,6]"
   ]
  },
  {
   "cell_type": "code",
   "execution_count": 13,
   "metadata": {},
   "outputs": [
    {
     "data": {
      "text/plain": [
       "[2, 4, 6]"
      ]
     },
     "execution_count": 13,
     "metadata": {},
     "output_type": "execute_result"
    }
   ],
   "source": [
    "list(filter(even_nums, list2))"
   ]
  },
  {
   "cell_type": "code",
   "execution_count": 14,
   "metadata": {},
   "outputs": [
    {
     "data": {
      "text/plain": [
       "[False, True, False, True, False, True]"
      ]
     },
     "execution_count": 14,
     "metadata": {},
     "output_type": "execute_result"
    }
   ],
   "source": [
    "list(map(even_nums, list2))"
   ]
  },
  {
   "cell_type": "markdown",
   "metadata": {},
   "source": [
    "Q. Create a list of apples, nuts, myth, chrome, rhythm such that the outut has only the words that don't have vowels in them. "
   ]
  },
  {
   "cell_type": "code",
   "execution_count": 37,
   "metadata": {},
   "outputs": [],
   "source": [
    "def vowels(word):\n",
    "    return('a' in word or 'e' in word or 'i' in word or 'o' in word or 'u' in word)\n",
    "list3=['apples','nuts','myth','chrome','rhythm']"
   ]
  },
  {
   "cell_type": "code",
   "execution_count": 38,
   "metadata": {},
   "outputs": [
    {
     "data": {
      "text/plain": [
       "['apples', 'nuts', 'chrome']"
      ]
     },
     "execution_count": 38,
     "metadata": {},
     "output_type": "execute_result"
    }
   ],
   "source": [
    "list(filter(vowels,list3))"
   ]
  },
  {
   "cell_type": "code",
   "execution_count": 55,
   "metadata": {},
   "outputs": [],
   "source": [
    "#You always use 'and' function with 'not' funtion.\n",
    "\n",
    "def no_vowels(word):\n",
    "    return(('a' not in word) and ('e' not in word) and ('i' not in word) and ('o' not in word) and ('u' not in word))\n",
    "list4=['apples','nuts','myth','chrome','rhythm']"
   ]
  },
  {
   "cell_type": "code",
   "execution_count": 56,
   "metadata": {},
   "outputs": [
    {
     "data": {
      "text/plain": [
       "['myth', 'rhythm']"
      ]
     },
     "execution_count": 56,
     "metadata": {},
     "output_type": "execute_result"
    }
   ],
   "source": [
    "list(filter(no_vowels,list4))"
   ]
  },
  {
   "cell_type": "markdown",
   "metadata": {},
   "source": [
    "# Armstrong Number Problem: \n",
    "cube of 3= 27, \n",
    "cube of 7= 343,\n",
    "cube of 1=1 \n",
    "\n",
    "27+343+1=371\n",
    "\n",
    "so 371 is an armstrong number. "
   ]
  },
  {
   "cell_type": "code",
   "execution_count": 16,
   "metadata": {},
   "outputs": [],
   "source": [
    "def armstrong_num(num):\n",
    "    str_num=str(num)\n",
    "    sum=0\n",
    "    for i in str_num:\n",
    "        sum=sum+int(i)**3\n",
    "    if sum==num:\n",
    "        return True \n",
    "    else:\n",
    "        return False\n",
    "list4=[153,371,50,407,2090]"
   ]
  },
  {
   "cell_type": "code",
   "execution_count": 17,
   "metadata": {},
   "outputs": [
    {
     "data": {
      "text/plain": [
       "[153, 371, 407]"
      ]
     },
     "execution_count": 17,
     "metadata": {},
     "output_type": "execute_result"
    }
   ],
   "source": [
    "list(filter(armstrong_num, list4))"
   ]
  },
  {
   "cell_type": "markdown",
   "metadata": {},
   "source": [
    "Q. Filter Words that have more than 6 letters. "
   ]
  },
  {
   "cell_type": "code",
   "execution_count": 20,
   "metadata": {},
   "outputs": [],
   "source": [
    "def names(six):\n",
    "    return (len(six)>=6)\n",
    "    \n",
    "list5=[\"bottle\", \"water\", \"table\", \"electricity\", \"walls\"]\n",
    "        "
   ]
  },
  {
   "cell_type": "code",
   "execution_count": 21,
   "metadata": {},
   "outputs": [
    {
     "data": {
      "text/plain": [
       "['bottle', 'electricity']"
      ]
     },
     "execution_count": 21,
     "metadata": {},
     "output_type": "execute_result"
    }
   ],
   "source": [
    "list(filter(names, list5))"
   ]
  },
  {
   "cell_type": "code",
   "execution_count": null,
   "metadata": {},
   "outputs": [],
   "source": []
  }
 ],
 "metadata": {
  "kernelspec": {
   "display_name": "Python 3",
   "language": "python",
   "name": "python3"
  },
  "language_info": {
   "codemirror_mode": {
    "name": "ipython",
    "version": 3
   },
   "file_extension": ".py",
   "mimetype": "text/x-python",
   "name": "python",
   "nbconvert_exporter": "python",
   "pygments_lexer": "ipython3",
   "version": "3.7.4"
  }
 },
 "nbformat": 4,
 "nbformat_minor": 2
}
