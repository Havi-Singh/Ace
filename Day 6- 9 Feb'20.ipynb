{
 "cells": [
  {
   "cell_type": "markdown",
   "metadata": {},
   "source": [
    "UDFs: User Defined Functions"
   ]
  },
  {
   "cell_type": "code",
   "execution_count": 1,
   "metadata": {},
   "outputs": [
    {
     "name": "stdout",
     "output_type": "stream",
     "text": [
      "46\n"
     ]
    }
   ],
   "source": [
    "def sum_of_numbers(num1,num2):\n",
    "    print(num1+num2)\n",
    "sum_of_numbers(12,34)"
   ]
  },
  {
   "cell_type": "code",
   "execution_count": 6,
   "metadata": {},
   "outputs": [
    {
     "name": "stdout",
     "output_type": "stream",
     "text": [
      "46\n"
     ]
    }
   ],
   "source": [
    "def sum_of_numbers(num1,num2):\n",
    "    '''\n",
    "    Description: Thus function perform addition of two numbers\n",
    "    INPUT: Two numbers\n",
    "    OUTPUT: One number\n",
    "    '''\n",
    "    \n",
    "    return(num1+num2)\n",
    "\n",
    "result=sum_of_numbers(12,34)\n",
    "print(result)"
   ]
  },
  {
   "cell_type": "markdown",
   "metadata": {},
   "source": [
    "To figure out what a function does- Shift+Tab \n",
    "or \n",
    "use help i.e.look below"
   ]
  },
  {
   "cell_type": "code",
   "execution_count": 3,
   "metadata": {},
   "outputs": [
    {
     "name": "stdout",
     "output_type": "stream",
     "text": [
      "Help on function sum_of_numbers in module __main__:\n",
      "\n",
      "sum_of_numbers(num1, num2)\n",
      "\n"
     ]
    }
   ],
   "source": [
    "help(sum_of_numbers)"
   ]
  },
  {
   "cell_type": "code",
   "execution_count": 9,
   "metadata": {},
   "outputs": [
    {
     "name": "stdout",
     "output_type": "stream",
     "text": [
      "0\n"
     ]
    }
   ],
   "source": [
    "def sub_numbers(num1=0,num2=0):\n",
    "    return num1-num2\n",
    "result=sub_numbers()\n",
    "print(result)"
   ]
  },
  {
   "cell_type": "markdown",
   "metadata": {},
   "source": [
    "So here, we define the variables before hand so that in case the user doesn't input any value or forgets to, the function would automatically use the pre-defined value/default value (here, 0) and thus no error would be shown. \n",
    "Another Example:"
   ]
  },
  {
   "cell_type": "code",
   "execution_count": 10,
   "metadata": {},
   "outputs": [
    {
     "name": "stdout",
     "output_type": "stream",
     "text": [
      "Havi xyz\n"
     ]
    }
   ],
   "source": [
    "def user_info(name=\"abc\", surname=\"xyz\"):\n",
    "    return(name+\" \"+surname)\n",
    "res=user_info(\"Havi\")\n",
    "print(res)"
   ]
  },
  {
   "cell_type": "code",
   "execution_count": 11,
   "metadata": {},
   "outputs": [
    {
     "name": "stdout",
     "output_type": "stream",
     "text": [
      "Havi Singh\n"
     ]
    }
   ],
   "source": [
    "def user_info(name=\"abc\", surname=\"xyz\"):\n",
    "    return(name+\" \"+surname)\n",
    "res=user_info(\"Havi\",\"Singh\")\n",
    "print(res)"
   ]
  },
  {
   "cell_type": "markdown",
   "metadata": {},
   "source": [
    "# Q. Write a python function that takes a list and returns a new list with unique elements of the first list.\n",
    "Sample List: [1,1,1,1,2,2,3,3,3,3,4,5]\n",
    "Unique List: [1,2,3,4,5]"
   ]
  },
  {
   "cell_type": "code",
   "execution_count": 12,
   "metadata": {},
   "outputs": [
    {
     "name": "stdout",
     "output_type": "stream",
     "text": [
      "[1, 2, 3, 4, 5]\n"
     ]
    }
   ],
   "source": [
    "sample_list=[1,1,1,1,2,2,3,3,3,3,4,5]\n",
    "unique_list=[]\n",
    "for i in sample_list:\n",
    "    if i not in unique_list:\n",
    "        unique_list.append(i)\n",
    "print(unique_list)"
   ]
  },
  {
   "cell_type": "code",
   "execution_count": 16,
   "metadata": {},
   "outputs": [
    {
     "name": "stdout",
     "output_type": "stream",
     "text": [
      "[1, 2, 3, 4, 5]\n"
     ]
    }
   ],
   "source": [
    "def unique_elements(sample_list):\n",
    "    unique_list=[]\n",
    "    for i in sample_list:\n",
    "        if i not in unique_list:\n",
    "            unique_list.append(i)\n",
    "    return unique_list\n",
    "sample_list=[1,1,1,1,2,2,3,3,3,3,4,5]\n",
    "result= unique_elements(sample_list)\n",
    "print(result)"
   ]
  },
  {
   "cell_type": "markdown",
   "metadata": {},
   "source": [
    "# Q. Given an array of inputs, return true if there are any consequetive 2's somewhere. \n",
    "has22([1,2,2]) True \n",
    "\n",
    "has22([1,2,1,2] False "
   ]
  },
  {
   "cell_type": "code",
   "execution_count": 49,
   "metadata": {},
   "outputs": [
    {
     "name": "stdout",
     "output_type": "stream",
     "text": [
      "None\n"
     ]
    }
   ],
   "source": [
    "def z(x):\n",
    "    for i in x:\n",
    "        if (i)+(i+1)==4:\n",
    "            return True\n",
    "\n",
    "x=[1,2,2,1]\n",
    "result= z(x)\n",
    "print(result)"
   ]
  },
  {
   "cell_type": "code",
   "execution_count": 41,
   "metadata": {},
   "outputs": [
    {
     "name": "stdout",
     "output_type": "stream",
     "text": [
      "True\n",
      "False\n"
     ]
    }
   ],
   "source": [
    "x=[1,2,2,1]\n",
    "\n",
    "for i in range (len(x)-1):\n",
    "    if x[i]==2 and x[i+1]==2:\n",
    "        print (\"True\")\n",
    "print(\"False\")\n"
   ]
  },
  {
   "cell_type": "markdown",
   "metadata": {},
   "source": [
    "If we hadn't mentioned len(x) -1, our index would have been out of range. Here, we have false also printed in case the function is true cause it's not a very logical function and it needs to be defined."
   ]
  },
  {
   "cell_type": "code",
   "execution_count": 46,
   "metadata": {},
   "outputs": [
    {
     "name": "stdout",
     "output_type": "stream",
     "text": [
      "False\n"
     ]
    }
   ],
   "source": [
    "def z(x):\n",
    "    for i in range (len(x)-1):\n",
    "        if x[i]==2 and x[i+1]==2:\n",
    "            return True \n",
    "    return False\n",
    "    \n",
    "x=[1,2,3]\n",
    "print(z(x))"
   ]
  },
  {
   "cell_type": "code",
   "execution_count": 47,
   "metadata": {},
   "outputs": [
    {
     "name": "stdout",
     "output_type": "stream",
     "text": [
      "True\n"
     ]
    }
   ],
   "source": [
    "def z(x):\n",
    "    for i in range (len(x)-1):\n",
    "        if x[i]==2 and x[i+1]==2:\n",
    "            return True \n",
    "    return False\n",
    "    \n",
    "x=[1,2,2,1]\n",
    "print(z(x))"
   ]
  },
  {
   "cell_type": "markdown",
   "metadata": {},
   "source": [
    "# Q. Given three values, your function should be such that it would sum if only all the three value are different, in case any two values are same it shouldn't include those values while doing the sum. \n",
    "\n",
    "lone_sum(1,2,3)->6 \n",
    "lone_sum(3,2,3)->2\n",
    "lone_sum(3,3,3)->0\n"
   ]
  },
  {
   "cell_type": "code",
   "execution_count": 67,
   "metadata": {},
   "outputs": [
    {
     "ename": "NameError",
     "evalue": "name 'Total' is not defined",
     "output_type": "error",
     "traceback": [
      "\u001b[0;31m---------------------------------------------------------------------------\u001b[0m",
      "\u001b[0;31mNameError\u001b[0m                                 Traceback (most recent call last)",
      "\u001b[0;32m<ipython-input-67-dfcf559c9712>\u001b[0m in \u001b[0;36m<module>\u001b[0;34m\u001b[0m\n\u001b[1;32m      5\u001b[0m         \u001b[0;32melif\u001b[0m\u001b[0;34m(\u001b[0m\u001b[0;34m)\u001b[0m\u001b[0;34m:\u001b[0m\u001b[0;34m\u001b[0m\u001b[0;34m\u001b[0m\u001b[0m\n\u001b[1;32m      6\u001b[0m             \u001b[0mTotal\u001b[0m\u001b[0;34m=\u001b[0m\u001b[0msum\u001b[0m\u001b[0;34m(\u001b[0m\u001b[0ma\u001b[0m\u001b[0;34m,\u001b[0m\u001b[0mlen\u001b[0m\u001b[0;34m(\u001b[0m\u001b[0ma\u001b[0m\u001b[0;34m)\u001b[0m\u001b[0;34m)\u001b[0m\u001b[0;34m\u001b[0m\u001b[0;34m\u001b[0m\u001b[0m\n\u001b[0;32m----> 7\u001b[0;31m \u001b[0mprint\u001b[0m\u001b[0;34m(\u001b[0m\u001b[0mTotal\u001b[0m\u001b[0;34m)\u001b[0m\u001b[0;34m\u001b[0m\u001b[0;34m\u001b[0m\u001b[0m\n\u001b[0m\u001b[1;32m      8\u001b[0m \u001b[0;34m\u001b[0m\u001b[0m\n",
      "\u001b[0;31mNameError\u001b[0m: name 'Total' is not defined"
     ]
    }
   ],
   "source": [
    "a=[1,2,3]\n",
    "for i in range (len(a)-1):\n",
    "        if a[i]==a[i+1]==a[i+2]:\n",
    "            print(\"Invalid\")\n",
    "        elif():\n",
    "            Total=sum(a,len(a))\n",
    "print(Total)\n",
    "    "
   ]
  },
  {
   "cell_type": "code",
   "execution_count": 70,
   "metadata": {},
   "outputs": [
    {
     "name": "stdout",
     "output_type": "stream",
     "text": [
      "1\n"
     ]
    }
   ],
   "source": [
    "def unique_element(list1):\n",
    "    #use count\n",
    "    return 1\n",
    "def lone_sum(a,b,c):\n",
    "    if a!=b!=c and a!=c!=b:\n",
    "        return (a+b+c)\n",
    "    elif a==b==c:\n",
    "        return 0\n",
    "    else:\n",
    "        list1=[a,b,c]\n",
    "        res=unique_element(list1)\n",
    "        return res\n",
    "print(lone_sum(3,2,3))"
   ]
  },
  {
   "cell_type": "markdown",
   "metadata": {},
   "source": [
    "# Q. Given an array of length 1 or more of ints, return the difference between largest and smallest values in the array. Note: the built-in min(v1,v2) functions return the smaller or larger of two values. \n",
    "\n",
    "big_diff([10,3,5,6])\n",
    "big_diff([7,2,10,9])\n",
    "big_diff([2,10,7,2])"
   ]
  },
  {
   "cell_type": "code",
   "execution_count": 74,
   "metadata": {},
   "outputs": [
    {
     "name": "stdout",
     "output_type": "stream",
     "text": [
      "7\n",
      "8\n",
      "8\n"
     ]
    }
   ],
   "source": [
    "a=[10,3,5,6]\n",
    "b=max(a)\n",
    "p=min(a)\n",
    "print(b-p)\n",
    "c=[7,2,10,9]\n",
    "d=max(c)\n",
    "q=min(c)\n",
    "print (d-q)\n",
    "e=[2,10,7,2]\n",
    "f=max(e)\n",
    "r=min(e)\n",
    "print (f-r)"
   ]
  },
  {
   "cell_type": "code",
   "execution_count": 80,
   "metadata": {},
   "outputs": [
    {
     "ename": "SyntaxError",
     "evalue": "invalid syntax (<ipython-input-80-6843419f95fe>, line 2)",
     "output_type": "error",
     "traceback": [
      "\u001b[0;36m  File \u001b[0;32m\"<ipython-input-80-6843419f95fe>\"\u001b[0;36m, line \u001b[0;32m2\u001b[0m\n\u001b[0;31m    for i and j in big_diff:\u001b[0m\n\u001b[0m            ^\u001b[0m\n\u001b[0;31mSyntaxError\u001b[0m\u001b[0;31m:\u001b[0m invalid syntax\n"
     ]
    }
   ],
   "source": [
    "def big_diff(m,n,o,p):\n",
    "    for i and j in big_diff:\n",
    "        if i==max(big_diff) and j==min(big_diff):\n",
    "            return (i+j)\n"
   ]
  },
  {
   "cell_type": "code",
   "execution_count": 83,
   "metadata": {},
   "outputs": [
    {
     "name": "stdout",
     "output_type": "stream",
     "text": [
      "66\n"
     ]
    }
   ],
   "source": [
    "def min_numb(list1):\n",
    "    min=list1[0]\n",
    "    for item in list1:\n",
    "        if min>item:\n",
    "            min=item\n",
    "        return min \n",
    "    \n",
    "def max_numb(list1):\n",
    "    max= list1[0]\n",
    "    for item in list1:\n",
    "        if max<item:\n",
    "            max=item\n",
    "    return max\n",
    "def big_diff(list1):\n",
    "    if len(list1)<2:\n",
    "        return \"Length of the list is less than 2\"\n",
    "    else: \n",
    "        max_no=max_numb(list1)\n",
    "        min_no=min_numb(list1)\n",
    "        return max_no-min_no\n",
    "        \n",
    "list1=[1,34,8,67,0]\n",
    "res= big_diff(list1)\n",
    "print(res)"
   ]
  },
  {
   "cell_type": "code",
   "execution_count": null,
   "metadata": {},
   "outputs": [],
   "source": []
  }
 ],
 "metadata": {
  "kernelspec": {
   "display_name": "Python 3",
   "language": "python",
   "name": "python3"
  },
  "language_info": {
   "codemirror_mode": {
    "name": "ipython",
    "version": 3
   },
   "file_extension": ".py",
   "mimetype": "text/x-python",
   "name": "python",
   "nbconvert_exporter": "python",
   "pygments_lexer": "ipython3",
   "version": "3.7.4"
  }
 },
 "nbformat": 4,
 "nbformat_minor": 2
}
