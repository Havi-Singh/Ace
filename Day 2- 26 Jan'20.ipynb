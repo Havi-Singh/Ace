{
 "cells": [
  {
   "cell_type": "code",
   "execution_count": 1,
   "metadata": {},
   "outputs": [
    {
     "name": "stdout",
     "output_type": "stream",
     "text": [
      "2\n",
      "3\n",
      "4\n",
      "5\n",
      "6\n",
      "7\n",
      "8\n",
      "9\n",
      "10\n",
      "11\n"
     ]
    }
   ],
   "source": [
    "for i in range (2,12):\n",
    "    print(i)"
   ]
  },
  {
   "cell_type": "code",
   "execution_count": 2,
   "metadata": {},
   "outputs": [
    {
     "name": "stdout",
     "output_type": "stream",
     "text": [
      "2\n",
      "5\n",
      "8\n",
      "11\n"
     ]
    }
   ],
   "source": [
    "for i in range (2,12,3):\n",
    "    print(i)"
   ]
  },
  {
   "cell_type": "markdown",
   "metadata": {},
   "source": [
    "Here, '3'at the end marks the level of increment between the range of 2 to 12. That is, range(start,stop,step)"
   ]
  },
  {
   "cell_type": "code",
   "execution_count": 3,
   "metadata": {},
   "outputs": [
    {
     "name": "stdout",
     "output_type": "stream",
     "text": [
      "12\n",
      "9\n",
      "6\n",
      "3\n"
     ]
    }
   ],
   "source": [
    "for i in range (12,0,-3):\n",
    "    print(i)\n",
    "    "
   ]
  },
  {
   "cell_type": "code",
   "execution_count": 13,
   "metadata": {},
   "outputs": [
    {
     "name": "stdout",
     "output_type": "stream",
     "text": [
      "Please enter number:20\n",
      "20 x 1 = 20\n",
      "20 x 2 = 40\n",
      "20 x 3 = 60\n",
      "20 x 4 = 80\n",
      "20 x 5 = 100\n",
      "20 x 6 = 120\n",
      "20 x 7 = 140\n",
      "20 x 8 = 160\n",
      "20 x 9 = 180\n",
      "20 x 10 = 200\n"
     ]
    }
   ],
   "source": [
    "num= input(\"Please enter number:\")\n",
    "for i in range(1,11):\n",
    "    print(num, 'x', i,'=', int(num)*i)"
   ]
  },
  {
   "cell_type": "code",
   "execution_count": 14,
   "metadata": {},
   "outputs": [
    {
     "name": "stdout",
     "output_type": "stream",
     "text": [
      "0\n",
      "7\n",
      "14\n",
      "21\n",
      "28\n",
      "35\n",
      "42\n",
      "49\n",
      "56\n",
      "63\n",
      "70\n",
      "77\n",
      "84\n",
      "91\n",
      "98\n"
     ]
    }
   ],
   "source": [
    "for i in range(0,100,7):\n",
    "    print(i)"
   ]
  },
  {
   "cell_type": "code",
   "execution_count": 115,
   "metadata": {},
   "outputs": [
    {
     "name": "stdout",
     "output_type": "stream",
     "text": [
      "Please enter the table of:20\n",
      "Table till:101\n",
      "20 * 1 = 5\n",
      "20 * 2 = 10\n",
      "20 * 3 = 15\n",
      "20 * 4 = 20\n",
      "20 * 5 = 25\n",
      "20 * 6 = 30\n",
      "20 * 7 = 35\n",
      "20 * 8 = 40\n",
      "20 * 9 = 45\n",
      "20 * 10 = 50\n",
      "20 * 11 = 55\n",
      "20 * 12 = 60\n",
      "20 * 13 = 65\n",
      "20 * 14 = 70\n",
      "20 * 15 = 75\n",
      "20 * 16 = 80\n",
      "20 * 17 = 85\n",
      "20 * 18 = 90\n",
      "20 * 19 = 95\n",
      "20 * 20 = 100\n",
      "20 * 21 = 105\n",
      "20 * 22 = 110\n",
      "20 * 23 = 115\n",
      "20 * 24 = 120\n",
      "20 * 25 = 125\n",
      "20 * 26 = 130\n",
      "20 * 27 = 135\n",
      "20 * 28 = 140\n",
      "20 * 29 = 145\n",
      "20 * 30 = 150\n",
      "20 * 31 = 155\n",
      "20 * 32 = 160\n",
      "20 * 33 = 165\n",
      "20 * 34 = 170\n",
      "20 * 35 = 175\n",
      "20 * 36 = 180\n",
      "20 * 37 = 185\n",
      "20 * 38 = 190\n",
      "20 * 39 = 195\n",
      "20 * 40 = 200\n",
      "20 * 41 = 205\n",
      "20 * 42 = 210\n",
      "20 * 43 = 215\n",
      "20 * 44 = 220\n",
      "20 * 45 = 225\n",
      "20 * 46 = 230\n",
      "20 * 47 = 235\n",
      "20 * 48 = 240\n",
      "20 * 49 = 245\n",
      "20 * 50 = 250\n",
      "20 * 51 = 255\n",
      "20 * 52 = 260\n",
      "20 * 53 = 265\n",
      "20 * 54 = 270\n",
      "20 * 55 = 275\n",
      "20 * 56 = 280\n",
      "20 * 57 = 285\n",
      "20 * 58 = 290\n",
      "20 * 59 = 295\n",
      "20 * 60 = 300\n",
      "20 * 61 = 305\n",
      "20 * 62 = 310\n",
      "20 * 63 = 315\n",
      "20 * 64 = 320\n",
      "20 * 65 = 325\n",
      "20 * 66 = 330\n",
      "20 * 67 = 335\n",
      "20 * 68 = 340\n",
      "20 * 69 = 345\n",
      "20 * 70 = 350\n",
      "20 * 71 = 355\n",
      "20 * 72 = 360\n",
      "20 * 73 = 365\n",
      "20 * 74 = 370\n",
      "20 * 75 = 375\n",
      "20 * 76 = 380\n",
      "20 * 77 = 385\n",
      "20 * 78 = 390\n",
      "20 * 79 = 395\n",
      "20 * 80 = 400\n",
      "20 * 81 = 405\n",
      "20 * 82 = 410\n",
      "20 * 83 = 415\n",
      "20 * 84 = 420\n",
      "20 * 85 = 425\n",
      "20 * 86 = 430\n",
      "20 * 87 = 435\n",
      "20 * 88 = 440\n",
      "20 * 89 = 445\n",
      "20 * 90 = 450\n",
      "20 * 91 = 455\n",
      "20 * 92 = 460\n",
      "20 * 93 = 465\n",
      "20 * 94 = 470\n",
      "20 * 95 = 475\n",
      "20 * 96 = 480\n",
      "20 * 97 = 485\n",
      "20 * 98 = 490\n",
      "20 * 99 = 495\n",
      "20 * 100 = 500\n"
     ]
    }
   ],
   "source": [
    "tableOf=input(\"Please enter the table of:\")\n",
    "sizeOftable=input(\"Table till:\")\n",
    "for m in range (1,int(sizeOftable)):\n",
    "    result=int(tableof)*m\n",
    "    print(tableOf,\"*\",m,\"=\",result)\n",
    "        "
   ]
  },
  {
   "cell_type": "code",
   "execution_count": 27,
   "metadata": {},
   "outputs": [
    {
     "name": "stdout",
     "output_type": "stream",
     "text": [
      "0\n",
      "1\n",
      "3\n",
      "6\n",
      "10\n",
      "15\n"
     ]
    }
   ],
   "source": [
    "sum=0\n",
    "for i in range(6):\n",
    "    sum=sum+i\n",
    "    print(sum)"
   ]
  },
  {
   "cell_type": "code",
   "execution_count": 28,
   "metadata": {},
   "outputs": [
    {
     "name": "stdout",
     "output_type": "stream",
     "text": [
      "15\n"
     ]
    }
   ],
   "source": [
    "sum=0\n",
    "for i in range(6):\n",
    "    sum=sum+i\n",
    "print(sum)"
   ]
  },
  {
   "cell_type": "markdown",
   "metadata": {},
   "source": [
    "This is the sum of the first 6 numbers."
   ]
  },
  {
   "cell_type": "code",
   "execution_count": 31,
   "metadata": {},
   "outputs": [
    {
     "name": "stdout",
     "output_type": "stream",
     "text": [
      "Sum of odd numbers till:5\n",
      "9\n"
     ]
    }
   ],
   "source": [
    "sum=0\n",
    "x=input(\"Sum of odd numbers till:\")\n",
    "for i in range(1, int(x)+1,2):\n",
    "    sum=sum+i\n",
    "print(sum)"
   ]
  },
  {
   "cell_type": "markdown",
   "metadata": {},
   "source": [
    "This would be the sum of odd numbers from 1 to n, here n is equal to 5. "
   ]
  },
  {
   "cell_type": "code",
   "execution_count": 39,
   "metadata": {},
   "outputs": [],
   "source": [
    "#Starting with STRING"
   ]
  },
  {
   "cell_type": "code",
   "execution_count": 44,
   "metadata": {},
   "outputs": [
    {
     "name": "stdout",
     "output_type": "stream",
     "text": [
      "India India 'India'\n"
     ]
    }
   ],
   "source": [
    "s1= \"India\"\n",
    "s2= 'India'\n",
    "s3= \"'India'\"\n",
    "print(s1,s2,s3)"
   ]
  },
  {
   "cell_type": "code",
   "execution_count": 45,
   "metadata": {},
   "outputs": [
    {
     "name": "stdout",
     "output_type": "stream",
     "text": [
      "India's\n"
     ]
    }
   ],
   "source": [
    "s1=\"India's\"\n",
    "print(s1)"
   ]
  },
  {
   "cell_type": "code",
   "execution_count": 46,
   "metadata": {},
   "outputs": [],
   "source": [
    "#Indexing"
   ]
  },
  {
   "cell_type": "code",
   "execution_count": 47,
   "metadata": {},
   "outputs": [
    {
     "name": "stdout",
     "output_type": "stream",
     "text": [
      "d\n"
     ]
    }
   ],
   "source": [
    "s1=\"India\"\n",
    "print(s1[2])"
   ]
  },
  {
   "cell_type": "code",
   "execution_count": 48,
   "metadata": {},
   "outputs": [
    {
     "name": "stdout",
     "output_type": "stream",
     "text": [
      "d\n"
     ]
    }
   ],
   "source": [
    "#Negative Indexing\n",
    "s1=\"India\"\n",
    "print(s1[-3])"
   ]
  },
  {
   "cell_type": "markdown",
   "metadata": {},
   "source": [
    "Positive Indexing starts from 0 from extreme left and Negative starts from the extreme right and -1. "
   ]
  },
  {
   "cell_type": "code",
   "execution_count": 49,
   "metadata": {},
   "outputs": [
    {
     "name": "stdout",
     "output_type": "stream",
     "text": [
      "19\n",
      "d\n"
     ]
    }
   ],
   "source": [
    "s1=\"India is my country\"\n",
    "print(len(s1))\n",
    "print(s1[-17])"
   ]
  },
  {
   "cell_type": "markdown",
   "metadata": {},
   "source": [
    "Len is used to find the number of characters (inclusive of the spaces). \n"
   ]
  },
  {
   "cell_type": "code",
   "execution_count": 52,
   "metadata": {},
   "outputs": [
    {
     "name": "stdout",
     "output_type": "stream",
     "text": [
      "12\n"
     ]
    }
   ],
   "source": [
    "s1=\"India is my country\"\n",
    "print(s1.index('c'))"
   ]
  },
  {
   "cell_type": "markdown",
   "metadata": {},
   "source": [
    "The above mentioned command is to find the Index Number of a particular character. "
   ]
  },
  {
   "cell_type": "code",
   "execution_count": 81,
   "metadata": {},
   "outputs": [
    {
     "name": "stdout",
     "output_type": "stream",
     "text": [
      "0 I\n",
      "1 n\n",
      "2 d\n",
      "3 i\n",
      "4 a\n",
      "5  \n",
      "6 i\n",
      "7 s\n",
      "8  \n",
      "9 a\n",
      "10  \n",
      "11 c\n",
      "12 o\n",
      "13 u\n",
      "14 n\n",
      "15 t\n",
      "16 r\n",
      "17 y\n"
     ]
    }
   ],
   "source": [
    "s1=\"India is a country\"\n",
    "#print(len(s1))\n",
    "#print(\"Last character of any string:\",s1[len(s1)-1])\n",
    "#print(s1.index('c'))\n",
    "\n",
    "for i in range(len(s1)):\n",
    "    print(i, s1[i])"
   ]
  },
  {
   "cell_type": "markdown",
   "metadata": {},
   "source": [
    "Above mentioned is the way to print the allotted index numbers of each character in the string. "
   ]
  },
  {
   "cell_type": "code",
   "execution_count": 82,
   "metadata": {},
   "outputs": [
    {
     "name": "stdout",
     "output_type": "stream",
     "text": [
      "0 I 0\n",
      "1 n 1\n",
      "2 d 2\n",
      "3 i 3\n",
      "4 a 4\n",
      "5   5\n",
      "6 i 3\n",
      "7 s 7\n",
      "8   5\n",
      "9 a 4\n",
      "10   5\n",
      "11 c 11\n",
      "12 o 12\n",
      "13 u 13\n",
      "14 n 1\n",
      "15 t 15\n",
      "16 r 16\n",
      "17 y 17\n"
     ]
    }
   ],
   "source": [
    "for i in range(len(s1)):\n",
    "    print(i, s1[i], s1.index(s1[i]))"
   ]
  },
  {
   "cell_type": "code",
   "execution_count": 83,
   "metadata": {},
   "outputs": [
    {
     "name": "stdout",
     "output_type": "stream",
     "text": [
      "I\n",
      "n\n",
      "d\n",
      "i\n",
      "a\n",
      " \n",
      "i\n",
      "s\n",
      " \n",
      "a\n",
      " \n",
      "c\n",
      "o\n",
      "u\n",
      "n\n",
      "t\n",
      "r\n",
      "y\n"
     ]
    }
   ],
   "source": [
    "for i in s1:\n",
    "    print(i)"
   ]
  },
  {
   "cell_type": "markdown",
   "metadata": {},
   "source": [
    "In the above command, i is now no more an integer rather it is a character. "
   ]
  },
  {
   "cell_type": "code",
   "execution_count": 84,
   "metadata": {},
   "outputs": [],
   "source": [
    "#Now count number of spaces in the sentences. "
   ]
  },
  {
   "cell_type": "code",
   "execution_count": 99,
   "metadata": {},
   "outputs": [
    {
     "name": "stdout",
     "output_type": "stream",
     "text": [
      "I False\n",
      "n False\n",
      "d False\n",
      "i False\n",
      "a False\n",
      "  True\n",
      "i False\n",
      "s False\n",
      "  True\n",
      "a False\n",
      "  True\n",
      "c False\n",
      "o False\n",
      "u False\n",
      "n False\n",
      "t False\n",
      "r False\n",
      "y False\n"
     ]
    }
   ],
   "source": [
    "s1=\"India is a country\"\n",
    "for h in s1:\n",
    "    print(h,h.isspace())"
   ]
  },
  {
   "cell_type": "code",
   "execution_count": 93,
   "metadata": {},
   "outputs": [
    {
     "name": "stdout",
     "output_type": "stream",
     "text": [
      "I i\n",
      "N n\n",
      "D d\n",
      "I i\n",
      "A a\n",
      "INDIA india\n",
      "I False True\n",
      "n False True\n",
      "d False True\n",
      "i False True\n",
      "a False True\n",
      "5 True False\n",
      "7 True False\n",
      "6 True False\n",
      "9 True False\n",
      "i False True\n",
      "u False True\n"
     ]
    }
   ],
   "source": [
    "s1=\"India\"\n",
    "for i in s1:\n",
    "    print(i.upper(),i.lower())\n",
    "print(s1.upper(), s1.lower())\n",
    "\n",
    "s2=\"India5769iu\"\n",
    "for j in s2:\n",
    "    print(j,j.isnumeric(),j.isalpha())"
   ]
  },
  {
   "cell_type": "code",
   "execution_count": 111,
   "metadata": {},
   "outputs": [
    {
     "name": "stdout",
     "output_type": "stream",
     "text": [
      "Number of Spaces: 4\n",
      "Number of Alphas: 20\n",
      "Number of Numbers: 6\n"
     ]
    }
   ],
   "source": [
    "spaceCount=0\n",
    "alphaCount=0\n",
    "numericCount=0\n",
    "s2=\"India5769iu hey INDIA 67y#$%^ jihj\"\n",
    "for j in s2:\n",
    "    if j.isspace()==True:\n",
    "        spaceCount=spaceCount+1\n",
    "    elif j.isalpha():\n",
    "        alphaCount=alphaCount+1\n",
    "    elif j.isnumeric():\n",
    "        numericCount=numericCount+1\n",
    "print(\"Number of Spaces:\", spaceCount)\n",
    "print(\"Number of Alphas:\", alphaCount)\n",
    "print(\"Number of Numbers:\", numericCount)\n"
   ]
  },
  {
   "cell_type": "code",
   "execution_count": 118,
   "metadata": {},
   "outputs": [
    {
     "name": "stdout",
     "output_type": "stream",
     "text": [
      "Please Enter Your Number:57\n",
      "57 x 1 = 57\n",
      "57 x 2 = 114\n",
      "57 x 3 = 171\n",
      "57 x 4 = 228\n",
      "57 x 5 = 285\n",
      "57 x 6 = 342\n",
      "57 x 7 = 399\n",
      "57 x 8 = 456\n",
      "57 x 9 = 513\n",
      "57 x 10 = 570\n"
     ]
    }
   ],
   "source": [
    "num=input(\"Please Enter Your Number:\")\n",
    "for i in range(1,11):\n",
    "    print(num, 'x', i,'=', int(num)*i)"
   ]
  },
  {
   "cell_type": "code",
   "execution_count": null,
   "metadata": {},
   "outputs": [],
   "source": []
  },
  {
   "cell_type": "code",
   "execution_count": null,
   "metadata": {},
   "outputs": [],
   "source": []
  }
 ],
 "metadata": {
  "kernelspec": {
   "display_name": "Python 3",
   "language": "python",
   "name": "python3"
  },
  "language_info": {
   "codemirror_mode": {
    "name": "ipython",
    "version": 3
   },
   "file_extension": ".py",
   "mimetype": "text/x-python",
   "name": "python",
   "nbconvert_exporter": "python",
   "pygments_lexer": "ipython3",
   "version": "3.7.4"
  }
 },
 "nbformat": 4,
 "nbformat_minor": 2
}
