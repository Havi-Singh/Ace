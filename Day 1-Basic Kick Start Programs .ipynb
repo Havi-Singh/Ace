{
 "cells": [
  {
   "cell_type": "code",
   "execution_count": 2,
   "metadata": {},
   "outputs": [
    {
     "name": "stdout",
     "output_type": "stream",
     "text": [
      "12\n"
     ]
    }
   ],
   "source": [
    "a=12\n",
    "print(a)"
   ]
  },
  {
   "cell_type": "markdown",
   "metadata": {},
   "source": [
    "This is variable assignment in Python."
   ]
  },
  {
   "cell_type": "code",
   "execution_count": 3,
   "metadata": {},
   "outputs": [
    {
     "name": "stdout",
     "output_type": "stream",
     "text": [
      "This is integer: 12\n"
     ]
    }
   ],
   "source": [
    "print(\"This is integer:\", a)"
   ]
  },
  {
   "cell_type": "code",
   "execution_count": 4,
   "metadata": {},
   "outputs": [
    {
     "name": "stdout",
     "output_type": "stream",
     "text": [
      "This is floating point: 2.57\n"
     ]
    }
   ],
   "source": [
    "b=2.57\n",
    "print(\"This is floating point:\", b)"
   ]
  },
  {
   "cell_type": "code",
   "execution_count": 11,
   "metadata": {},
   "outputs": [
    {
     "name": "stdout",
     "output_type": "stream",
     "text": [
      "This is boolean: True\n"
     ]
    }
   ],
   "source": [
    "c=True \n",
    "print(\"This is boolean:\", c)\n"
   ]
  },
  {
   "cell_type": "code",
   "execution_count": 12,
   "metadata": {},
   "outputs": [
    {
     "name": "stdout",
     "output_type": "stream",
     "text": [
      "<class 'bool'>\n"
     ]
    }
   ],
   "source": [
    "#TO know the type of a variable \n",
    "print(type(c))"
   ]
  },
  {
   "cell_type": "code",
   "execution_count": 13,
   "metadata": {},
   "outputs": [
    {
     "name": "stdout",
     "output_type": "stream",
     "text": [
      "<class 'float'>\n"
     ]
    }
   ],
   "source": [
    "print(type(b))"
   ]
  },
  {
   "cell_type": "code",
   "execution_count": 14,
   "metadata": {},
   "outputs": [
    {
     "name": "stdout",
     "output_type": "stream",
     "text": [
      "<class 'int'>\n"
     ]
    }
   ],
   "source": [
    "print(type(a))"
   ]
  },
  {
   "cell_type": "code",
   "execution_count": 16,
   "metadata": {},
   "outputs": [
    {
     "name": "stdout",
     "output_type": "stream",
     "text": [
      "12\n"
     ]
    }
   ],
   "source": [
    "print(a)"
   ]
  },
  {
   "cell_type": "code",
   "execution_count": 17,
   "metadata": {},
   "outputs": [
    {
     "name": "stdout",
     "output_type": "stream",
     "text": [
      "1728\n",
      "Output of Division: 4.5\n",
      "Output of Floor Division 4\n"
     ]
    }
   ],
   "source": [
    "a= 576*3\n",
    "print(a)\n",
    "\n",
    "x=9/2\n",
    "print(\"Output of Division:\", x)\n",
    "\n",
    "y=9//2\n",
    "print(\"Output of Floor Division\", y)"
   ]
  },
  {
   "cell_type": "markdown",
   "metadata": {},
   "source": [
    "Floor rounds off from 0 to 5 and Ceiling rounds off from 5 to 10 "
   ]
  },
  {
   "cell_type": "code",
   "execution_count": 19,
   "metadata": {},
   "outputs": [
    {
     "name": "stdout",
     "output_type": "stream",
     "text": [
      "Output of Division: 4.7\n",
      "Another example of Output of Floor Division: 4\n"
     ]
    }
   ],
   "source": [
    "z=47/10 \n",
    "print(\"Output of Division:\", z)\n",
    "\n",
    "b=47//10\n",
    "print(\"Another example of Output of Floor Division:\", b)"
   ]
  },
  {
   "cell_type": "code",
   "execution_count": null,
   "metadata": {},
   "outputs": [],
   "source": [
    "x=3.5/5\n",
    "print(\"Output of Division using Data Type Float:\", x)\n",
    "\n",
    "z=3.5//5\n",
    "print(\"Output of Floor Division using Data Type Float\", z)\n"
   ]
  },
  {
   "cell_type": "markdown",
   "metadata": {},
   "source": [
    "Your Output would be in Float form if any of your numerator and denominator is Float. \n",
    "If you don't want the output in float, you can define the variable manuallly to be an integer i.e. int (x) under the print command. Example: print(\"Output of Division:\", int (x))"
   ]
  },
  {
   "cell_type": "code",
   "execution_count": 24,
   "metadata": {},
   "outputs": [
    {
     "name": "stdout",
     "output_type": "stream",
     "text": [
      "8\n"
     ]
    }
   ],
   "source": [
    "raise_to_power = 2**3\n",
    "print(raise_to_power)\n"
   ]
  },
  {
   "cell_type": "code",
   "execution_count": 25,
   "metadata": {},
   "outputs": [
    {
     "name": "stdout",
     "output_type": "stream",
     "text": [
      "Two fruits are apple\n"
     ]
    }
   ],
   "source": [
    "fruit1=\"apple\"\n",
    "fruit2=\"orange\"\n",
    "print(\"Two fruits are {}\".format(fruit1))"
   ]
  },
  {
   "cell_type": "code",
   "execution_count": 26,
   "metadata": {},
   "outputs": [
    {
     "name": "stdout",
     "output_type": "stream",
     "text": [
      "Two fruits are apple and orange\n"
     ]
    }
   ],
   "source": [
    "print(\"Two fruits are {} and {}\".format(fruit1, fruit2))"
   ]
  },
  {
   "cell_type": "markdown",
   "metadata": {},
   "source": [
    "Used case scenario example: When you get automated e-mails with personalisation i.e. your name. They use this kind of string in those cases, where your name would be hardcoded and recieved as an imput from elesewhere and used in the string format in the mail. "
   ]
  },
  {
   "cell_type": "code",
   "execution_count": 27,
   "metadata": {},
   "outputs": [],
   "source": [
    "#Conditional Statements in Python : if, if...else and elif"
   ]
  },
  {
   "cell_type": "code",
   "execution_count": 28,
   "metadata": {},
   "outputs": [
    {
     "name": "stdout",
     "output_type": "stream",
     "text": [
      "True\n"
     ]
    }
   ],
   "source": [
    "num1=1 \n",
    "if num1<5:\n",
    "    print(True)"
   ]
  },
  {
   "cell_type": "markdown",
   "metadata": {},
   "source": [
    "Indentation is very Important otherwise there would be an error. "
   ]
  },
  {
   "cell_type": "code",
   "execution_count": 30,
   "metadata": {},
   "outputs": [
    {
     "name": "stdout",
     "output_type": "stream",
     "text": [
      "False\n"
     ]
    }
   ],
   "source": [
    "num1=10\n",
    "if num1<5:\n",
    "    print(True)\n",
    "else:\n",
    "    print(False)"
   ]
  },
  {
   "cell_type": "markdown",
   "metadata": {},
   "source": [
    "Here, we don't use \"\" in print to type True and False because they are not just Text, they are Boolean values. "
   ]
  },
  {
   "cell_type": "code",
   "execution_count": 45,
   "metadata": {},
   "outputs": [
    {
     "name": "stdout",
     "output_type": "stream",
     "text": [
      "Odd\n"
     ]
    }
   ],
   "source": [
    "num1= 5\n",
    "if num1%2==0:\n",
    "    print(\"Even\")\n",
    "else: \n",
    "    print(\"Odd\")"
   ]
  },
  {
   "cell_type": "raw",
   "metadata": {},
   "source": [
    "Here, ==0 signifies remainder should be zero. We used the following functions mentioned below:"
   ]
  },
  {
   "cell_type": "code",
   "execution_count": 43,
   "metadata": {},
   "outputs": [
    {
     "name": "stdout",
     "output_type": "stream",
     "text": [
      "1\n",
      "6.5\n"
     ]
    }
   ],
   "source": [
    "mod_ex = 13%2\n",
    "print(mod_ex)\n",
    "\n",
    "div_ex = 13/2 \n",
    "print(div_ex)"
   ]
  },
  {
   "cell_type": "markdown",
   "metadata": {},
   "source": [
    "mod_ex would give us the remainder and div_ex would give us the quotient. "
   ]
  },
  {
   "cell_type": "code",
   "execution_count": 46,
   "metadata": {},
   "outputs": [
    {
     "name": "stdout",
     "output_type": "stream",
     "text": [
      "Please enter your name:Havi\n",
      "Thanks: Havi\n"
     ]
    }
   ],
   "source": [
    "name= input(\"Please enter your name:\")\n",
    "print(\"Thanks:\", name)"
   ]
  },
  {
   "cell_type": "code",
   "execution_count": 49,
   "metadata": {},
   "outputs": [
    {
     "name": "stdout",
     "output_type": "stream",
     "text": [
      "Enter a number:50\n",
      "Even\n"
     ]
    }
   ],
   "source": [
    "num1= input(\"Enter a number:\")\n",
    "if int(num1)%2==0:\n",
    "    print(\"Even\")\n",
    "else:\n",
    "    print(\"Odd\")"
   ]
  },
  {
   "cell_type": "code",
   "execution_count": 50,
   "metadata": {},
   "outputs": [
    {
     "name": "stdout",
     "output_type": "stream",
     "text": [
      "Please enter your age:21\n",
      "This is Str: 21\n",
      "42\n"
     ]
    }
   ],
   "source": [
    "age= input(\"Please enter your age:\")\n",
    "print(\"This is Str:\", age)\n",
    "x= int(age)*2\n",
    "print(x)"
   ]
  },
  {
   "cell_type": "markdown",
   "metadata": {},
   "source": [
    "Given below, a=13\n",
    "b=\"13\"\n",
    "\n",
    "b is a string and a is an integer. So we can use the operation of Mod only on a, as we can use these operations only on integers and not strings. To solve this, you can type-cast or conversion. \n"
   ]
  },
  {
   "cell_type": "code",
   "execution_count": 51,
   "metadata": {},
   "outputs": [
    {
     "name": "stdout",
     "output_type": "stream",
     "text": [
      "1\n"
     ]
    }
   ],
   "source": [
    "a= 13\n",
    "b= \"13\"\n",
    "result= int(b)%2\n",
    "print(result)"
   ]
  },
  {
   "cell_type": "code",
   "execution_count": 52,
   "metadata": {},
   "outputs": [
    {
     "name": "stdout",
     "output_type": "stream",
     "text": [
      "Python\n"
     ]
    }
   ],
   "source": [
    "sub =\"Python\"\n",
    "if sub==\"java\":\n",
    "    print(\"java\")\n",
    "elif sub==\"c\":\n",
    "    print(\"c\")\n",
    "elif sub==\"angular\":\n",
    "    print(\"angular\")\n",
    "else:\n",
    "    print(sub)\n",
    "   "
   ]
  },
  {
   "cell_type": "code",
   "execution_count": 53,
   "metadata": {},
   "outputs": [
    {
     "name": "stdout",
     "output_type": "stream",
     "text": [
      "7 x 1 = 7\n",
      "7 x 2 = 14\n",
      "7 x 3 = 21\n",
      "7 x 4 = 28\n",
      "7 x 5 = 35\n",
      "7 x 6 = 42\n",
      "7 x 7 = 49\n",
      "7 x 8 = 56\n",
      "7 x 9 = 63\n",
      "7 x 10 = 70\n"
     ]
    }
   ],
   "source": [
    "num=7\n",
    "for i in range(1,11):\n",
    "    print(num, 'x', i,'=', num*i)"
   ]
  },
  {
   "cell_type": "code",
   "execution_count": null,
   "metadata": {},
   "outputs": [],
   "source": []
  }
 ],
 "metadata": {
  "kernelspec": {
   "display_name": "Python 3",
   "language": "python",
   "name": "python3"
  },
  "language_info": {
   "codemirror_mode": {
    "name": "ipython",
    "version": 3
   },
   "file_extension": ".py",
   "mimetype": "text/x-python",
   "name": "python",
   "nbconvert_exporter": "python",
   "pygments_lexer": "ipython3",
   "version": "3.7.4"
  }
 },
 "nbformat": 4,
 "nbformat_minor": 2
}
