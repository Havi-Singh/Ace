{
 "cells": [
  {
   "cell_type": "markdown",
   "metadata": {},
   "source": [
    "Find the Sum and Average of only the digits in the string. "
   ]
  },
  {
   "cell_type": "code",
   "execution_count": 1,
   "metadata": {},
   "outputs": [
    {
     "name": "stdout",
     "output_type": "stream",
     "text": [
      "7\n",
      "8\n",
      "8\n",
      "3\n",
      "6\n",
      "8\n",
      "6\n",
      "5\n"
     ]
    }
   ],
   "source": [
    "s1= \"English=78 Science=83 Math=68 History=65\"\n",
    "\n",
    "for i in s1:\n",
    "    if i.isnumeric():\n",
    "        print(i)\n",
    "\n"
   ]
  },
  {
   "cell_type": "code",
   "execution_count": 22,
   "metadata": {},
   "outputs": [
    {
     "name": "stdout",
     "output_type": "stream",
     "text": [
      "294\n",
      "4\n"
     ]
    }
   ],
   "source": [
    "s1= \"English=78 Science=83 Math=68 History=65\"\n",
    "sum=0\n",
    "length=0\n",
    "for i in range(0,len(s1)-1,1):\n",
    "    if s1[i].isnumeric() and s1[i+1].isnumeric():\n",
    "        numbers=s1[i]+s1[i+1]\n",
    "        #print(numbers)\n",
    "        sum=sum+int(numbers)\n",
    "        length=length+1\n",
    "print(sum)\n",
    "print(length)\n"
   ]
  },
  {
   "cell_type": "markdown",
   "metadata": {},
   "source": [
    "DICTIONARIES:"
   ]
  },
  {
   "cell_type": "code",
   "execution_count": 25,
   "metadata": {},
   "outputs": [
    {
     "data": {
      "text/plain": [
       "{'apples': 100, 'oranges': 80, 'veggies': [12, 30, 45], 345: 'fruits'}"
      ]
     },
     "execution_count": 25,
     "metadata": {},
     "output_type": "execute_result"
    }
   ],
   "source": [
    "#Here, veggies is a list in itself\n",
    "dict1={\"apples\":100,\"oranges\":80,\"veggies\":[12,30,45], 345:\"fruits\"}\n",
    "dict1"
   ]
  },
  {
   "cell_type": "markdown",
   "metadata": {},
   "source": [
    "Dictionaries have Key Value pair in the format, Key:Value. \n",
    "Also, Keys must always be unique. \n",
    "Difference between list and dictionaries is that, list has unordered pair and dictionaries have ordered pairs. "
   ]
  },
  {
   "cell_type": "code",
   "execution_count": 28,
   "metadata": {},
   "outputs": [
    {
     "data": {
      "text/plain": [
       "[12, 30, 45]"
      ]
     },
     "execution_count": 28,
     "metadata": {},
     "output_type": "execute_result"
    }
   ],
   "source": [
    "#in order to fetch the value:\n",
    "\n",
    "dict1.get(\"apples\")\n",
    "dict1.get(\"veggies\")"
   ]
  },
  {
   "cell_type": "code",
   "execution_count": 30,
   "metadata": {},
   "outputs": [
    {
     "data": {
      "text/plain": [
       "30"
      ]
     },
     "execution_count": 30,
     "metadata": {},
     "output_type": "execute_result"
    }
   ],
   "source": [
    "dict1.get(\"veggies\")[1]\n",
    "\n",
    "#Here [1] is the index for dictionaries. "
   ]
  },
  {
   "cell_type": "code",
   "execution_count": 33,
   "metadata": {},
   "outputs": [
    {
     "name": "stdout",
     "output_type": "stream",
     "text": [
      "dict_keys(['apples', 'oranges', 'veggies', 345])\n"
     ]
    }
   ],
   "source": [
    "print(dict1.keys())\n",
    "\n",
    "#helps get the keys for the dictionary in the form of a list. "
   ]
  },
  {
   "cell_type": "code",
   "execution_count": 35,
   "metadata": {},
   "outputs": [
    {
     "data": {
      "text/plain": [
       "dict_values([100, 80, [12, 30, 45], 'fruits'])"
      ]
     },
     "execution_count": 35,
     "metadata": {},
     "output_type": "execute_result"
    }
   ],
   "source": [
    "dict1.values()\n",
    "\n",
    "#just like fetching keys, this helps us catch values. "
   ]
  },
  {
   "cell_type": "code",
   "execution_count": 37,
   "metadata": {},
   "outputs": [
    {
     "data": {
      "text/plain": [
       "{'apples': 100,\n",
       " 'oranges': 80,\n",
       " 'veggies': [12, 30, 45],\n",
       " 345: 'fruits',\n",
       " 'banana': 578}"
      ]
     },
     "execution_count": 37,
     "metadata": {},
     "output_type": "execute_result"
    }
   ],
   "source": [
    "dict1[\"banana\"]=578\n",
    "dict1"
   ]
  },
  {
   "cell_type": "markdown",
   "metadata": {},
   "source": [
    "This used to Append a Key-Value pair in the dictionary. "
   ]
  },
  {
   "cell_type": "code",
   "execution_count": 43,
   "metadata": {},
   "outputs": [
    {
     "data": {
      "text/plain": [
       "{'apples': 100, 'veggies': [12, 30, 45], 345: 'fruits'}"
      ]
     },
     "execution_count": 43,
     "metadata": {},
     "output_type": "execute_result"
    }
   ],
   "source": [
    "dict1={\"apples\":100,\"oranges\":80,\"veggies\":[12,30,45], 345:\"fruits\"}\n",
    "dict1.pop(\"oranges\")\n",
    "dict1"
   ]
  },
  {
   "cell_type": "code",
   "execution_count": 45,
   "metadata": {},
   "outputs": [
    {
     "data": {
      "text/plain": [
       "100"
      ]
     },
     "execution_count": 45,
     "metadata": {},
     "output_type": "execute_result"
    }
   ],
   "source": [
    "dict1.get(\"apples\")"
   ]
  },
  {
   "cell_type": "code",
   "execution_count": 66,
   "metadata": {},
   "outputs": [
    {
     "name": "stdout",
     "output_type": "stream",
     "text": [
      "{'I': 1, 'am': 1, 'doing': 1, 'python': 2, 'programming,': 1, 'programming': 1, 'in': 1, 'is': 1, 'easy.': 1}\n"
     ]
    }
   ],
   "source": [
    "s1=\"I am doing python programming, programming in python is easy.\"\n",
    "L1=s1.split(\" \")\n",
    "dict2={}\n",
    "for i in L1:\n",
    "    dict2[i]=L1.count(i)\n",
    "print(dict2)"
   ]
  },
  {
   "cell_type": "code",
   "execution_count": 88,
   "metadata": {},
   "outputs": [
    {
     "name": "stdout",
     "output_type": "stream",
     "text": [
      "400 a\n",
      "400 b\n",
      "{'a': 400, 'b': 400}\n"
     ]
    }
   ],
   "source": [
    "#Write a Python program to combine two dictinaries adding values for common keys.\n",
    "d1={'a':100, 'b': 200, 'c':300}\n",
    "d2={'a':300, 'b':200, 'd':400}\n",
    "d3={}\n",
    "for i in d1.keys():\n",
    "    for j in d2.keys():\n",
    "        if i==j:\n",
    "            print(d1[i]+d2[j], i)\n",
    "            d3[i]=(d1[i]+d2[j])\n",
    "print(d3)\n",
    "    \n"
   ]
  }
 ],
 "metadata": {
  "kernelspec": {
   "display_name": "Python 3",
   "language": "python",
   "name": "python3"
  },
  "language_info": {
   "codemirror_mode": {
    "name": "ipython",
    "version": 3
   },
   "file_extension": ".py",
   "mimetype": "text/x-python",
   "name": "python",
   "nbconvert_exporter": "python",
   "pygments_lexer": "ipython3",
   "version": "3.7.4"
  }
 },
 "nbformat": 4,
 "nbformat_minor": 2
}
