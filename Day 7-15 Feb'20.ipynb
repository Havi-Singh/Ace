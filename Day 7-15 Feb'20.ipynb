{
 "cells": [
  {
   "cell_type": "markdown",
   "metadata": {},
   "source": [
    "You use 'while' loop when your purpose if fulfilled and you want to move out from the loop. Then you use break/continue/pass. "
   ]
  },
  {
   "cell_type": "code",
   "execution_count": 1,
   "metadata": {},
   "outputs": [
    {
     "name": "stdout",
     "output_type": "stream",
     "text": [
      "10\n",
      "11\n",
      "12\n",
      "13\n",
      "14\n"
     ]
    }
   ],
   "source": [
    "x=10\n",
    "while x<15:\n",
    "    print(x)\n",
    "    x=x+1"
   ]
  },
  {
   "cell_type": "code",
   "execution_count": 4,
   "metadata": {},
   "outputs": [
    {
     "name": "stdout",
     "output_type": "stream",
     "text": [
      "11\n",
      "12\n",
      "13\n",
      "Inside Break\n"
     ]
    }
   ],
   "source": [
    "x=10\n",
    "while x<15:\n",
    "    if x==13:\n",
    "        print(\"Inside Break\")\n",
    "        break\n",
    "    x=x+1\n",
    "    print(x)\n",
    "  "
   ]
  },
  {
   "cell_type": "code",
   "execution_count": 10,
   "metadata": {},
   "outputs": [
    {
     "name": "stdout",
     "output_type": "stream",
     "text": [
      "10\n",
      "11\n",
      "12\n",
      "13\n",
      "14\n",
      "15\n",
      "16\n",
      "Inside Break 1\n"
     ]
    }
   ],
   "source": [
    "x=10\n",
    "while x<20:\n",
    "    print(x)\n",
    "    x=x+1\n",
    "    if x==17:\n",
    "        print(\"Inside Break 1\")\n",
    "        break\n",
    "while x==20:\n",
    "    print(\"Inside Break 2\")\n",
    "    break "
   ]
  },
  {
   "cell_type": "code",
   "execution_count": 8,
   "metadata": {},
   "outputs": [
    {
     "name": "stdout",
     "output_type": "stream",
     "text": [
      "11\n",
      "12\n",
      "13\n",
      "14\n",
      "15\n",
      "16\n",
      "Inside Break 1\n",
      "17\n",
      "18\n",
      "19\n",
      "20\n"
     ]
    }
   ],
   "source": [
    "x=10\n",
    "while x<20:\n",
    "    x=x+1\n",
    "    while x==17:\n",
    "        print(\"Inside Break 1\")\n",
    "        break\n",
    "    print(x)\n",
    "    \n",
    "        "
   ]
  },
  {
   "cell_type": "code",
   "execution_count": 14,
   "metadata": {},
   "outputs": [
    {
     "name": "stdout",
     "output_type": "stream",
     "text": [
      "10\n",
      "11\n",
      "12\n",
      "13\n",
      "Inside Break\n",
      "14\n"
     ]
    }
   ],
   "source": [
    "x=10\n",
    "while x<15:\n",
    "    print(x)\n",
    "    while x==13:\n",
    "        print(\"Inside Break\")\n",
    "        break\n",
    "    x=x+1"
   ]
  },
  {
   "cell_type": "markdown",
   "metadata": {},
   "source": [
    "# Continue (skips the element), (whereas break simply stops the loop)"
   ]
  },
  {
   "cell_type": "code",
   "execution_count": 16,
   "metadata": {},
   "outputs": [
    {
     "name": "stdout",
     "output_type": "stream",
     "text": [
      "I\n",
      "n\n",
      "i\n",
      "a\n"
     ]
    }
   ],
   "source": [
    "str1=\"India\"\n",
    "for i in str1:\n",
    "    if i=='d':\n",
    "        continue\n",
    "    print(i)"
   ]
  },
  {
   "cell_type": "code",
   "execution_count": 6,
   "metadata": {},
   "outputs": [
    {
     "name": "stdout",
     "output_type": "stream",
     "text": [
      "1\n",
      "2\n",
      "Fizz\n",
      "4\n",
      "Buzz\n",
      "Fizz\n",
      "7\n",
      "8\n",
      "Fizz\n",
      "Buzz\n",
      "11\n",
      "Fizz\n",
      "13\n",
      "14\n",
      "FizzBuzz\n",
      "16\n",
      "17\n",
      "Fizz\n",
      "19\n",
      "Buzz\n",
      "Fizz\n",
      "22\n",
      "23\n",
      "Fizz\n",
      "Buzz\n",
      "26\n",
      "Fizz\n",
      "28\n",
      "29\n",
      "FizzBuzz\n",
      "31\n",
      "32\n",
      "Fizz\n",
      "34\n",
      "Buzz\n",
      "Fizz\n",
      "37\n",
      "38\n",
      "Fizz\n",
      "Buzz\n",
      "41\n",
      "Fizz\n",
      "43\n",
      "44\n",
      "FizzBuzz\n",
      "46\n",
      "47\n",
      "Fizz\n",
      "49\n",
      "Buzz\n",
      "Fizz\n",
      "52\n",
      "53\n",
      "Fizz\n",
      "Buzz\n",
      "56\n",
      "Fizz\n",
      "58\n",
      "59\n",
      "FizzBuzz\n",
      "61\n",
      "62\n",
      "Fizz\n",
      "64\n",
      "Buzz\n",
      "Fizz\n",
      "67\n",
      "68\n",
      "Fizz\n",
      "Buzz\n",
      "71\n",
      "Fizz\n",
      "73\n",
      "74\n",
      "FizzBuzz\n",
      "76\n",
      "77\n",
      "Fizz\n",
      "79\n",
      "Buzz\n",
      "Fizz\n",
      "82\n",
      "83\n",
      "Fizz\n",
      "Buzz\n",
      "86\n",
      "Fizz\n",
      "88\n",
      "89\n",
      "FizzBuzz\n",
      "91\n",
      "92\n",
      "Fizz\n",
      "94\n",
      "Buzz\n",
      "Fizz\n",
      "97\n",
      "98\n",
      "Fizz\n",
      "Buzz\n"
     ]
    }
   ],
   "source": [
    "#program where print integers 1 to 100 byt instead of multiples of 3 print Fizz and for multiples of 5 print Buzz and for multiples of both 3 and 5 print FizzBuzz.\n",
    "\n",
    "for i in range (1,101):\n",
    "    if i%3==0 and i%5==0:\n",
    "        print(\"FizzBuzz\")\n",
    "    elif i%3==0:\n",
    "        print(\"Fizz\")\n",
    "    elif i%5==0:\n",
    "        print(\"Buzz\")\n",
    "    else:\n",
    "        print(i)"
   ]
  },
  {
   "cell_type": "markdown",
   "metadata": {},
   "source": [
    "# Generating Random Numbers"
   ]
  },
  {
   "cell_type": "code",
   "execution_count": 9,
   "metadata": {},
   "outputs": [],
   "source": [
    "from random import randint"
   ]
  },
  {
   "cell_type": "code",
   "execution_count": 34,
   "metadata": {},
   "outputs": [
    {
     "name": "stdout",
     "output_type": "stream",
     "text": [
      "8\n"
     ]
    }
   ],
   "source": [
    "random_num=randint(1,10)\n",
    "print(random_num)"
   ]
  },
  {
   "cell_type": "markdown",
   "metadata": {},
   "source": [
    "# OOPS : Object Oriented Programming\n",
    "OOPS is reusable and scalable.\n",
    "\n",
    "1. class/entity,    \n",
    "2. action/functions/methods,    \n",
    "3. agents of actions/variables\n",
    "\n",
    "Also, if you consider car as a class/entity, it becomes a generic class when we add cars like Honda city, BMW etc. Here, these different types of cars would be known as objects of the car class. \n",
    "\n",
    "Class name starts w a capital letter. \n",
    "\n",
    "Class is a generic blueprint according to which all other instances (eg:hondacity,bmw etc) operate.\n",
    "eg: Paytm is a class and we are all its objects.\n",
    "\n",
    "eg: String is also a class that python itself has offered us. "
   ]
  },
  {
   "cell_type": "code",
   "execution_count": 37,
   "metadata": {},
   "outputs": [],
   "source": [
    "class Car():\n",
    "    def __init__(self, colour, engine):\n",
    "        self.colour=colour\n",
    "        self.engine=engine\n",
    "    def run(self):\n",
    "        print(\"My car with colour {} is running at {}.\".format(self.colour, self.engine))"
   ]
  },
  {
   "cell_type": "code",
   "execution_count": 38,
   "metadata": {},
   "outputs": [],
   "source": [
    "hondacity= Car('red', 1000)"
   ]
  },
  {
   "cell_type": "code",
   "execution_count": 39,
   "metadata": {},
   "outputs": [],
   "source": [
    "bmw= Car('black', 3000)"
   ]
  },
  {
   "cell_type": "code",
   "execution_count": 40,
   "metadata": {},
   "outputs": [
    {
     "name": "stdout",
     "output_type": "stream",
     "text": [
      "My car with colour red is running at 1000.\n"
     ]
    }
   ],
   "source": [
    "hondacity.run()"
   ]
  },
  {
   "cell_type": "code",
   "execution_count": 41,
   "metadata": {},
   "outputs": [
    {
     "name": "stdout",
     "output_type": "stream",
     "text": [
      "My car with colour black is running at 3000.\n"
     ]
    }
   ],
   "source": [
    "bmw.run()"
   ]
  },
  {
   "cell_type": "code",
   "execution_count": 48,
   "metadata": {},
   "outputs": [],
   "source": [
    "#Create a similar oops program with Animal Class.\n",
    "\n",
    "class Animal():\n",
    "    def __init__(self, eat, habitat, speak):\n",
    "        self.eat=eat\n",
    "        self.habitat=habitat\n",
    "        self.speak=speak\n",
    "    def run(self):\n",
    "        print(\"This animal eats {}, lives in the {} and {} to speak.\".format(self.eat, self.habitat, self.speak))"
   ]
  },
  {
   "cell_type": "code",
   "execution_count": 50,
   "metadata": {},
   "outputs": [],
   "source": [
    "dog= Animal('meat','kennel','barks')"
   ]
  },
  {
   "cell_type": "code",
   "execution_count": 51,
   "metadata": {},
   "outputs": [],
   "source": [
    "tiger=Animal('other animals','jungle','roars')"
   ]
  },
  {
   "cell_type": "code",
   "execution_count": 52,
   "metadata": {},
   "outputs": [],
   "source": [
    "pigeon=Animal('seeds', 'trees', 'makes noises')"
   ]
  },
  {
   "cell_type": "code",
   "execution_count": 53,
   "metadata": {},
   "outputs": [
    {
     "name": "stdout",
     "output_type": "stream",
     "text": [
      "This animal eats meat, lives in the kennel and barks to speak.\n"
     ]
    }
   ],
   "source": [
    "dog.run()"
   ]
  },
  {
   "cell_type": "code",
   "execution_count": 55,
   "metadata": {},
   "outputs": [
    {
     "name": "stdout",
     "output_type": "stream",
     "text": [
      "This animal eats other animals, lives in the jungle and roars to speak.\n"
     ]
    }
   ],
   "source": [
    "tiger.run()"
   ]
  },
  {
   "cell_type": "code",
   "execution_count": 56,
   "metadata": {},
   "outputs": [
    {
     "name": "stdout",
     "output_type": "stream",
     "text": [
      "This animal eats seeds, lives in the trees and makes noises to speak.\n"
     ]
    }
   ],
   "source": [
    "pigeon.run()"
   ]
  },
  {
   "cell_type": "code",
   "execution_count": 63,
   "metadata": {},
   "outputs": [],
   "source": [
    "class Animal():\n",
    "    def __init__(self, number_of_legs, colour):\n",
    "        self.number_of_legs=number_of_legs\n",
    "        self.colour=colour\n",
    "    def eat(self,foodType='na'):\n",
    "        '''\n",
    "        Description: This  methid tells how an animal eats\n",
    "        '''\n",
    "        if foodType=='Meat':\n",
    "            print(\"Animal with colour {} and number of legs {} is carnivorous\".format(self.number_of_legs, self.colour))\n",
    "        if foodType=='Grass':\n",
    "            print(\"Animal with colour {} and number of legs {} is herbivorous\".format(self.number_of_legs, self.colour))\n",
    "        elif foodType=='na':\n",
    "            print(\"Info not available\")\n",
    "    def speak(self, speakingHabit):\n",
    "        print(\"Animal speaks in  way: {}\".format(speakingHabit))"
   ]
  },
  {
   "cell_type": "code",
   "execution_count": 66,
   "metadata": {},
   "outputs": [],
   "source": [
    "Dog=Animal('brown', 4)"
   ]
  },
  {
   "cell_type": "code",
   "execution_count": 67,
   "metadata": {},
   "outputs": [
    {
     "name": "stdout",
     "output_type": "stream",
     "text": [
      "Animal with colour brown and number of legs 4 is carnivorous\n"
     ]
    }
   ],
   "source": [
    "Dog.eat('Meat')"
   ]
  },
  {
   "cell_type": "code",
   "execution_count": 68,
   "metadata": {},
   "outputs": [],
   "source": [
    "#Keychain Assignment\n",
    "\n",
    "class Store():\n",
    "    def __init__(self, storeName, productCount):\n",
    "        self.storeName=storeName\n",
    "        self.productCount=productCount\n",
    "        print(\"Welcome to {} Store\".format(self.storeName))\n",
    "    def menu(self):\n",
    "        while True:\n",
    "            productCount=0\n",
    "            print(\"1.Add Product:\")\n",
    "            print(\"2.Remove Product:\")\n",
    "            print(\"3.Update Product:\")\n",
    "            print(\"4.Checkout:\")\n",
    "            userChoice=int(input(\"Please enter input: \"))\n",
    "            \n",
    "            if userChoice==1:\n",
    "                self.add()\n",
    "            if userChoice==2:\n",
    "                self.remove()\n",
    "            if userChoice==3:\n",
    "                self.update() \n",
    "            if userChoice==4:\n",
    "                self.checkout()\n",
    "                break \n",
    "    def add(self):\n",
    "        print(\"You have {} keychains\".format(self.productCount))\n",
    "        addProduct=int(input(\"How many keychains to add: \"))\n",
    "        self.productCount=self.productCount+addProduct\n",
    "        print(\"You now have {} keychains\".format(self.productCount))\n",
    "        \n",
    "    def remove(self):\n",
    "        print(\"You have {} keychains\".format(self.productCount))\n",
    "        removeProduct=int(input(\"How many keychains to remove: \"))\n",
    "        self.productCount=self.productCount-removeProduct\n",
    "        print(\"You now have {} keychains\".format(self.productCount))\n",
    "        \n",
    "    def update(self):\n",
    "        print(\"You have {} keychains\".format(self.productCount))\n",
    "        print(\"You have {} keychains\".format(self.productCount))\n",
    "    \n",
    "    def checkout(self):\n",
    "        print(\"You are checking out with {} keychains\".format(self.productCount))\n",
    "        print(\"Thank you for shopping with us\".format(self.productCount))"
   ]
  },
  {
   "cell_type": "code",
   "execution_count": null,
   "metadata": {},
   "outputs": [
    {
     "name": "stdout",
     "output_type": "stream",
     "text": [
      "Welcome to Keychain Store\n",
      "1.Add Product:\n",
      "2.Remove Product:\n",
      "3.Update Product:\n",
      "4.Checkout:\n"
     ]
    }
   ],
   "source": [
    "keychain_store=Store('Keychain',0)\n",
    "keychain_store.menu() "
   ]
  },
  {
   "cell_type": "code",
   "execution_count": null,
   "metadata": {},
   "outputs": [],
   "source": []
  }
 ],
 "metadata": {
  "kernelspec": {
   "display_name": "Python 3",
   "language": "python",
   "name": "python3"
  },
  "language_info": {
   "codemirror_mode": {
    "name": "ipython",
    "version": 3
   },
   "file_extension": ".py",
   "mimetype": "text/x-python",
   "name": "python",
   "nbconvert_exporter": "python",
   "pygments_lexer": "ipython3",
   "version": "3.7.4"
  }
 },
 "nbformat": 4,
 "nbformat_minor": 2
}
